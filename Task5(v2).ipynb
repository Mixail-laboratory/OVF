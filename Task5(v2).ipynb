{
 "cells": [
  {
   "cell_type": "code",
   "execution_count": 11,
   "id": "eb93b02b",
   "metadata": {},
   "outputs": [],
   "source": [
    "import numpy as np\n",
    "import matplotlib.pyplot as plt\n",
    "\n",
    "import seaborn as sns\n",
    "sns.set_style('darkgrid')\n",
    "\n",
    "import ipywidgets as widgets"
   ]
  },
  {
   "cell_type": "code",
   "execution_count": 12,
   "id": "7b01e38a",
   "metadata": {},
   "outputs": [],
   "source": [
    "\n",
    "x_k = lambda k, n: -5 + k * (10 / n)\n",
    "y_k = lambda k, n: 1 / (1 + x_k(k, n)**2)"
   ]
  },
  {
   "cell_type": "code",
   "execution_count": 13,
   "id": "36625051",
   "metadata": {},
   "outputs": [],
   "source": [
    "def getXY(n: int):\n",
    "    K = np.arange(0, n+1)\n",
    "    return x_k(K, n), y_k(K, n)"
   ]
  },
  {
   "cell_type": "code",
   "execution_count": 14,
   "id": "5bca57b6",
   "metadata": {},
   "outputs": [
    {
     "data": {
      "application/vnd.jupyter.widget-view+json": {
       "model_id": "8f7d01d1f6f04d25a0deb0a85bb0d4e4",
       "version_major": 2,
       "version_minor": 0
      },
      "text/plain": [
       "interactive(children=(IntSlider(value=4, description='n', max=15, min=4), Output()), _dom_classes=('widget-int…"
      ]
     },
     "metadata": {},
     "output_type": "display_data"
    }
   ],
   "source": [
    "@widgets.interact(n=(4, 15))\n",
    "def drawFunction(n: int = 4):\n",
    "    plt.figure(figsize=(15, 7), dpi=70)\n",
    "    x, y = getXY(n)\n",
    "    plt.plot(x, y, 'or', label=f\"$n={n}$\")\n",
    "    plt.legend(loc='best')\n",
    "    plt.show()"
   ]
  },
  {
   "cell_type": "code",
   "execution_count": 15,
   "id": "08551138",
   "metadata": {},
   "outputs": [],
   "source": [
    "def LagrangePoly(X: np.ndarray, Y: np.ndarray):\n",
    "    \n",
    "    assert X.size == Y.size\n",
    "    n = X.size\n",
    "    \n",
    "    l = lambda x, i: np.prod([(x - X[j]) for j in range(n) if j != i])\n",
    "    \n",
    "    P = lambda x: np.sum([Y[i] * (l(x, i)) / (l(X[i], i)) for i in range(n)])\n",
    "    \n",
    "    return P"
   ]
  },
  {
   "cell_type": "code",
   "execution_count": 16,
   "id": "43de8c95",
   "metadata": {},
   "outputs": [
    {
     "data": {
      "application/vnd.jupyter.widget-view+json": {
       "model_id": "2e7b7769151648e6baa2450e5686f312",
       "version_major": 2,
       "version_minor": 0
      },
      "text/plain": [
       "interactive(children=(IntSlider(value=4, description='n', max=15, min=4), Output()), _dom_classes=('widget-int…"
      ]
     },
     "metadata": {},
     "output_type": "display_data"
    }
   ],
   "source": [
    "@widgets.interact(n=(4, 15))\n",
    "def drawLagrangeInterpolation(n: int = 4):\n",
    "    fg, ax = plt.subplots(1, 2, figsize=(16, 8), dpi=100)\n",
    "    X, Y = getXY(n)\n",
    "    P = LagrangePoly(X, Y)\n",
    "    xx = np.linspace(X[0], X[-1], 1000)\n",
    "    yy =  np.vectorize(P)(xx)\n",
    "    OriginalY = np.vectorize(lambda x: 1 / (1 + x**2))(xx)\n",
    "    ax[0].plot(X, Y, 'or')\n",
    "    ax[0].plot(xx, yy, linestyle=':', label=r\"$Lagrange \\ P_n(x)$\")\n",
    "    ax[0].plot(xx, OriginalY, label=r\"$\\frac{1}{1+x^2}$\")\n",
    "    ax[1].plot(xx, np.abs(yy - OriginalY))\n",
    "    ax[1].set_title(r'$Lagrange \\ |P_n(x) - \\frac{1}{1+x^2}|$')\n",
    "    ax[0].legend(loc='best')"
   ]
  },
  {
   "cell_type": "code",
   "execution_count": 17,
   "id": "6946de49",
   "metadata": {},
   "outputs": [],
   "source": [
    "def NewtonFillTable(X: np.ndarray, Y: np.ndarray):\n",
    "    \n",
    "    assert X.size == Y.size\n",
    "    n = X.size\n",
    "    A = np.zeros((n, n + 1))\n",
    "    A[:, 0] = X[:]\n",
    "    A[:, 1] = Y[:]\n",
    "    \n",
    "    for j in range(2, n+1):\n",
    "        for i in range(j-1, n):\n",
    "            A[i, j] = (A[i, j-1] - A[i-1, j-1]) / (A[i, 0] - A[i-j+1, 0])\n",
    "    \n",
    "    p = np.zeros(n)\n",
    "    for k in range(n):\n",
    "        p[k] = A[k, k+1]\n",
    "    \n",
    "    return p"
   ]
  },
  {
   "cell_type": "code",
   "execution_count": 18,
   "id": "47bf9016",
   "metadata": {},
   "outputs": [],
   "source": [
    "def NewtonPoly(t, X: np.ndarray, Y: np.ndarray):\n",
    "    p = NewtonFillTable(X, Y)\n",
    "    n = X.size\n",
    "    res = p[n-1]\n",
    "    for i in range(n-2, -1, -1):\n",
    "        res = res * (t-X[i]) + p[i]\n",
    "    return res"
   ]
  },
  {
   "cell_type": "code",
   "execution_count": 19,
   "id": "80338111",
   "metadata": {},
   "outputs": [
    {
     "data": {
      "application/vnd.jupyter.widget-view+json": {
       "model_id": "1e45ae3e7b454a6f8bc09aa13bd044a2",
       "version_major": 2,
       "version_minor": 0
      },
      "text/plain": [
       "interactive(children=(IntSlider(value=4, description='n', max=15, min=4), Output()), _dom_classes=('widget-int…"
      ]
     },
     "metadata": {},
     "output_type": "display_data"
    }
   ],
   "source": [
    "@widgets.interact(n=(4, 15))\n",
    "def drawNewtonInterpolation(n: int = 4):\n",
    "    fg, ax = plt.subplots(1, 2, figsize=(16, 8), dpi=100)\n",
    "    X, Y = getXY(n)\n",
    "    ax[0].plot(X, Y, 'or')\n",
    "    \n",
    "    xx = np.linspace(X[0], X[-1], 1000)\n",
    "    yy = NewtonPoly(xx, X, Y)\n",
    "\n",
    "\n",
    "    OriginalY = np.vectorize(lambda x: 1 / (1 + x**2))(xx)\n",
    "\n",
    "    ax[0].plot(xx, yy, linestyle=':', label=r\"$Newton \\ P_n(x)$\")\n",
    "    ax[0].plot(xx, OriginalY, label=r\"$\\frac{1}{1+x^2}$\")\n",
    "    ax[1].plot(xx, np.abs(yy - OriginalY))\n",
    "    ax[1].set_title(r'$Newton \\ |P_n(x) - \\frac{1}{1+x^2}|$')\n",
    "    ax[0].legend(loc='best')"
   ]
  },
  {
   "cell_type": "code",
   "execution_count": null,
   "id": "3d18ca5d",
   "metadata": {},
   "outputs": [],
   "source": []
  }
 ],
 "metadata": {
  "kernelspec": {
   "display_name": "Python 3.8.10 ('venv': venv)",
   "language": "python",
   "name": "python3"
  },
  "language_info": {
   "codemirror_mode": {
    "name": "ipython",
    "version": 3
   },
   "file_extension": ".py",
   "mimetype": "text/x-python",
   "name": "python",
   "nbconvert_exporter": "python",
   "pygments_lexer": "ipython3",
   "version": "3.8.10"
  },
  "vscode": {
   "interpreter": {
    "hash": "986c65b7f44be49c5a5d7bebfaa9311e4a7a8341f04b974bc4db3a8e5344b8db"
   }
  }
 },
 "nbformat": 4,
 "nbformat_minor": 5
}
